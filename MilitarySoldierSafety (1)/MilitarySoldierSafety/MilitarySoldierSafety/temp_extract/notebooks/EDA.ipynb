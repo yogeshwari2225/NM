{
 "cells": [
  {
   "cell_type": "markdown",
   "metadata": {},
   "source": ["# EDA for Military Dataset"]
  },
  {
   "cell_type": "code",
   "metadata": {},
   "execution_count": null,
   "outputs": [],
   "source": [
    "import os\n",
    "import pandas as pd\n",
    "import matplotlib.pyplot as plt\n",
    "import seaborn as sns\n",
    "from PIL import Image\n",
    "# Add code here to analyze annotations and image sizes"
   ]
  }
 ],
 "metadata": {},
 "nbformat": 4,
 "nbformat_minor": 2
}
